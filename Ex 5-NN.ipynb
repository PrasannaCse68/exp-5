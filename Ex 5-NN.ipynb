{
 "cells": [
  {
   "cell_type": "code",
   "execution_count": null,
   "metadata": {},
   "outputs": [],
   "source": [
    "!pip install numpy\n"
   ]
  },
  {
   "cell_type": "code",
   "execution_count": null,
   "metadata": {},
   "outputs": [],
   "source": [
    "!pip install matplotlib\n"
   ]
  },
  {
   "cell_type": "code",
   "execution_count": 5,
   "metadata": {},
   "outputs": [],
   "source": [
    "import numpy as np\n",
    "import matplotlib.pyplot as plt"
   ]
  },
  {
   "cell_type": "code",
   "execution_count": 6,
   "metadata": {},
   "outputs": [],
   "source": [
    "def gaussian_rbf(x, landmark, gamma=1):\n",
    "    return np.exp(-gamma * np.linalg.norm(x - landmark)**2)"
   ]
  },
  {
   "cell_type": "code",
   "execution_count": null,
   "metadata": {},
   "outputs": [],
   "source": [
    "def end_to_end(X1, X2, ys, mu1, mu2):\n",
    "    from_1 = \n",
    "    from_2 = \n",
    "    # plot\n",
    "\n",
    "    plt.figure(figsize=(13, 5))\n",
    "    plt.subplot(1, 2, 1)\n",
    "    plt.scatter((x1[0], x1[3]), (x2[0], x2[3]), label=\"Class_0\")\n",
    "    plt.scatter((x1[1], x1[2]), (x2[1], x2[2]), label=\"Class_1\")\n",
    "    plt.xlabel(\"$X1$\", fontsize=15)\n",
    "    plt.ylabel(\"$X2$\", fontsize=15)\n",
    "    plt.title(\"Xor: Linearly Inseparable\", fontsize=15)\n",
    "    plt.legend()\n",
    "\n",
    "\n",
    "    plt.subplot(1, 2, 2)\n",
    "    plt.scatter(from_1[0], from_2[0], label=\"Class_0\")\n",
    "    plt.scatter(from_1[1], from_2[1], label=\"Class_1\")\n",
    "    plt.scatter(from_1[2], from_2[2], label=\"Class_1\")\n",
    "    plt.scatter(from_1[3], from_2[3], label=\"Class_0\")\n",
    "    plt.plot([0, 0.95], [0.95, 0], \"k--\")\n",
    "    plt.annotate(\"Seperating hyperplane\", xy=(0.4, 0.55), xytext=(0.55, 0.66),\n",
    "                arrowprops=dict(facecolor='black', shrink=0.05))\n",
    "    plt.xlabel(f\"$mu1$: {(mu1)}\", fontsize=15)\n",
    "    plt.ylabel(f\"$mu2$: {(mu2)}\", fontsize=15)\n",
    "    plt.title(\"Transformed Inputs: Linearly Seperable\", fontsize=15)\n",
    "    plt.legend()\n",
    "    # solving problem using matrices form\n",
    "    # AW = Y\n",
    "    A = []\n",
    "    for i, j in zip(from_1, from_2):\n",
    "        temp = []\n",
    "        temp.append(i)\n",
    "        temp.append(j)\n",
    "        temp.append(1)\n",
    "        A.append(temp)\n",
    "\n",
    "    A = np.array(A)\n",
    "    \n",
    "    #Type here\n",
    "    print(f\"Weights: {W}\")\n",
    "    return W\n"
   ]
  },
  {
   "cell_type": "code",
   "execution_count": null,
   "metadata": {},
   "outputs": [],
   "source": [
    "def predict_matrix(point, weights):\n",
    "    #Type your code here\n",
    "    return np.round(A.dot(weights))"
   ]
  },
  {
   "cell_type": "code",
   "execution_count": null,
   "metadata": {},
   "outputs": [],
   "source": [
    "x1 = np.array([0, 0, 1, 1])\n",
    "x2 = np.array([0, 1, 0, 1])\n",
    "ys = np.array([0, 1, 1, 0])\n",
    "# centers\n",
    "mu1 = np.array([0, 1])\n",
    "mu2 = np.array([1, 0])"
   ]
  },
  {
   "cell_type": "code",
   "execution_count": null,
   "metadata": {},
   "outputs": [],
   "source": [
    "w = end_to_end(x1, x2, ys, mu1, mu2)\n",
    "\n",
    "\n",
    "# testing\n",
    "print(f\"Input:{np.array([0, 0])}, Predicted: {                  }\")\n",
    "print(f\"Input:{np.array([0, 1])}, Predicted: {                }\")\n",
    "print(f\"Input:{np.array([1, 0])}, Predicted: {                }\")\n",
    "print(f\"Input:{np.array([1, 1])}, Predicted: {                 }\")\n"
   ]
  }
 ],
 "metadata": {
  "kernelspec": {
   "display_name": "Python 3",
   "language": "python",
   "name": "python3"
  },
  "language_info": {
   "codemirror_mode": {
    "name": "ipython",
    "version": 3
   },
   "file_extension": ".py",
   "mimetype": "text/x-python",
   "name": "python",
   "nbconvert_exporter": "python",
   "pygments_lexer": "ipython3",
   "version": "3.10.6"
  }
 },
 "nbformat": 4,
 "nbformat_minor": 2
}
